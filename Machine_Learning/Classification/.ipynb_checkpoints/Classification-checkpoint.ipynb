{
 "cells": [
  {
   "cell_type": "markdown",
   "metadata": {},
   "source": [
    "## COMP 551 - A2\n",
    "## Camilo Garcia La Rotta #260657037\n",
    "### 1. Generalized Discriminant Analysis \n",
    "Firstly we import the given datasets:"
   ]
  },
  {
   "cell_type": "code",
   "execution_count": 1,
   "metadata": {},
   "outputs": [
    {
     "name": "stdout",
     "output_type": "stream",
     "text": [
      "C1 means: (20,)\n",
      "C2 means: (20,)\n",
      "C1-C2 Cov: (20, 20)\n"
     ]
    }
   ],
   "source": [
    "%matplotlib inline\n",
    "import numpy as np\n",
    "import pandas as pd\n",
    "from IPython.display import display\n",
    "import matplotlib.pyplot as plt\n",
    "import matplotlib.ticker as ticker\n",
    "\n",
    "c1_means   = np.genfromtxt('./Datasets/DS1_m_1.txt', delimiter=',')\n",
    "c2_means   = np.genfromtxt('./Datasets/DS1_m_0.txt', delimiter=',')\n",
    "c1_c2_cov = np.genfromtxt('./Datasets/Ds1_Cov.txt', delimiter=',')\n",
    "\n",
    "# get rid of extra column parsed by read_csv due to \\n\n",
    "c1_means = c1_means[:-1]\n",
    "c2_means = c2_means[:-1]\n",
    "c1_c2_cov = c1_c2_cov[:, :-1]\n",
    "\n",
    "print('C1 means: {}\\nC2 means: {}\\nC1-C2 Cov: {}'.format(c1_means.shape,c2_means.shape,c1_c2_cov.shape))"
   ]
  },
  {
   "cell_type": "markdown",
   "metadata": {},
   "source": [
    "Generate 2 classes, each with 20 features and 2000 samples:"
   ]
  },
  {
   "cell_type": "code",
   "execution_count": 2,
   "metadata": {},
   "outputs": [
    {
     "name": "stdout",
     "output_type": "stream",
     "text": [
      "Data set for Class 1 has shape: (2000, 21)\n",
      "Data set for Class 2 has shape: (2000, 21)\n"
     ]
    }
   ],
   "source": [
    "shape = (2000)\n",
    "df1 = pd.DataFrame(np.random.multivariate_normal(c1_means,c1_c2_cov,shape))\n",
    "df2 = pd.DataFrame(np.random.multivariate_normal(c2_means,c1_c2_cov,shape))\n",
    "\n",
    "# append the labels to each data set\n",
    "df1['y'] = 1\n",
    "df2['y'] = 0\n",
    "\n",
    "print('Data set for Class 1 has shape: {}'.format(df1.shape))\n",
    "print('Data set for Class 2 has shape: {}'.format(df2.shape))"
   ]
  },
  {
   "cell_type": "markdown",
   "metadata": {},
   "source": [
    "Next, we will take a homogenious ratio of both classes to form training and testing data sets with 70/30 ratio:"
   ]
  },
  {
   "cell_type": "code",
   "execution_count": 3,
   "metadata": {},
   "outputs": [
    {
     "name": "stdout",
     "output_type": "stream",
     "text": [
      "X_train: (2800, 20)\ty_train: (2800,)\n",
      "X_test: (1200, 20)\ty_test: (1200,)\n"
     ]
    }
   ],
   "source": [
    "def add_bias(df):\n",
    "    if not 'bias' in df.columns:\n",
    "        df.insert(0,'bias',1)\n",
    "    return df\n",
    "\n",
    "def train_test_split(df):\n",
    "    # split data set 70/30\n",
    "    train = df.sample(frac=0.7).reset_index(drop=True)\n",
    "    test = df.drop(train.index).reset_index(drop=True)\n",
    "    \n",
    "    # divide each data set into features and labels\n",
    "    X_train = train.iloc[:,:-1]\n",
    "    y_train = train.iloc[:,-1]\n",
    "    \n",
    "    X_test = test.iloc[:,:-1]  \n",
    "    y_test = test.iloc[:,-1]\n",
    "    \n",
    "    return (X_train, X_test, y_train, y_test)\n",
    "    \n",
    "# merge and shuffle the two input dataframes\n",
    "def merge(df1, df2):\n",
    "    # combine both data sets\n",
    "    df = df1.append(df2, ignore_index=True)\n",
    "    # shuffle samples\n",
    "    return df.sample(frac=1, random_state=42).reset_index(drop=True)\n",
    "\n",
    "\n",
    "X_train1, X_test1, y_train1, y_test1 = train_test_split(df1)\n",
    "X_train2, X_test2, y_train2, y_test2 = train_test_split(df2)\n",
    "\n",
    "X_train = merge(X_train1, X_train2)\n",
    "y_train = merge(y_train1, y_train2)\n",
    "\n",
    "X_test  = merge(X_test1, X_test2)\n",
    "y_test  = merge(y_test1, y_test2)\n",
    "\n",
    "print('X_train: {}\\ty_train: {}\\nX_test: {}\\ty_test: {}'.format(X_train.shape, y_train.shape, X_test.shape, y_test.shape))"
   ]
  },
  {
   "cell_type": "markdown",
   "metadata": {},
   "source": [
    "We will save the testing set as DS1:"
   ]
  },
  {
   "cell_type": "code",
   "execution_count": 4,
   "metadata": {
    "collapsed": true
   },
   "outputs": [],
   "source": [
    "DS1_train = X_train.copy(deep=True)\n",
    "DS1_test  = X_test.copy(deep=True)\n",
    "\n",
    "DS1_train['y'] = y_train\n",
    "DS1_test['y']  = y_test\n",
    "\n",
    "DS1_train.to_csv('./Output/DS1_train.csv')\n",
    "DS1_test.to_csv('./Output/DS1_test.csv')"
   ]
  },
  {
   "cell_type": "markdown",
   "metadata": {},
   "source": [
    "### 2. Maximum Likelihood Approach\n",
    "The likelihood of a datapoint $x^{(n)}$, $t^{(n)}$ is given by:\n",
    "\n",
    "$$[\\pi \\mathcal{N}(x^{(n)}\\mid\\mu_{1},\\Sigma)]^{t^{(n)}}[(1 - \\pi)  \\mathcal{N}(x^{(n)}\\mid\\mu_{2},\\Sigma)]^{1-t^{(n)}}$$\n",
    "\n",
    "\n",
    "Lets first obtain the relevant values from the training dataset:\n"
   ]
  },
  {
   "cell_type": "code",
   "execution_count": 5,
   "metadata": {
    "collapsed": true
   },
   "outputs": [],
   "source": [
    "N = y_train.shape[0]\n",
    "N1, N2 = y_train.value_counts()\n",
    "\n",
    "# features of classes 1,2 \n",
    "X_c1 = X_train.loc[y_train.index[y_train == 1]]\n",
    "X_c2 = X_train.loc[y_train.index[y_train == 0]]"
   ]
  },
  {
   "cell_type": "markdown",
   "metadata": {},
   "source": [
    "Maximization wrt to $\\mu_{1}$, $\\mu_{2}$: "
   ]
  },
  {
   "cell_type": "code",
   "execution_count": 6,
   "metadata": {
    "collapsed": true
   },
   "outputs": [],
   "source": [
    "m1 = X_c1.mean(axis=0)\n",
    "m2 = X_c2.mean(axis=0)"
   ]
  },
  {
   "cell_type": "markdown",
   "metadata": {},
   "source": [
    "Maximization wrt to $\\Sigma$:"
   ]
  },
  {
   "cell_type": "code",
   "execution_count": 7,
   "metadata": {
    "collapsed": true
   },
   "outputs": [],
   "source": [
    "S1 = (X_c1 - m1).T.dot((X_c1 - m1)) / N1\n",
    "S2 = (X_c2 - m2).T.dot((X_c2 - m2)) / N2\n",
    "\n",
    "cov = (N1 * S1 / N) + (N2 * S2 / N)"
   ]
  },
  {
   "cell_type": "markdown",
   "metadata": {},
   "source": [
    "Now we can train the model:"
   ]
  },
  {
   "cell_type": "code",
   "execution_count": 8,
   "metadata": {
    "collapsed": true
   },
   "outputs": [],
   "source": [
    "import math\n",
    "\n",
    "sigmoid = lambda x: 1 / (1 + np.exp(-x))\n",
    "\n",
    "cov_inv = np.linalg.pinv(cov)\n",
    "\n",
    "W   = cov_inv.dot(m1 - m2)\n",
    "w_0 = (-1/2) * m1.T.dot(cov_inv).dot(m1) + \\\n",
    "        (1/2) * m2.T.dot(cov_inv).dot(m2) + math.log(N1 / N2)\n",
    "    \n",
    "W = np.concatenate((np.array([w_0]),W), axis=0)\n",
    "\n",
    "clf = lambda W, X: 1 if sigmoid(X.dot(W.T)) > 0.5 else 0"
   ]
  },
  {
   "cell_type": "markdown",
   "metadata": {},
   "source": [
    "Finally, we test the accuracy of the classifier:"
   ]
  },
  {
   "cell_type": "code",
   "execution_count": 9,
   "metadata": {},
   "outputs": [
    {
     "name": "stdout",
     "output_type": "stream",
     "text": [
      "Confusion Matrix: {'TP': 569, 'FP': 24, 'FN': 31, 'TN': 576}\n",
      "Accuracy:\t0.9542\n",
      "Precision:\t0.9595\n",
      "Recall:\t\t0.9483\n",
      "F_1:\t\t0.9539\n"
     ]
    }
   ],
   "source": [
    "add_bias(X_test)\n",
    "y_pred = X_test.apply(lambda x: clf(W,x), axis=1)\n",
    "X_test = X_test.drop('bias',1)\n",
    "\n",
    "def get_confusion_matrix(y_pred, y_test):\n",
    "    # we will apply a simple trick to derive the confusion matrix of the model\n",
    "    #     pred     actual\n",
    "    #  2*  1    -    1     =  1  TP\n",
    "    #  2*  1    -    0     =  2  FP\n",
    "    #  2*  0    -    1     = -1  FN\n",
    "    #  2*  0    -    0     =  0  TN\n",
    "    counts = [2 * pred - test for pred, test in zip(y_pred,y_test)]\n",
    "    \n",
    "    return {'TP':counts.count(1), 'FP':counts.count(2), 'FN':counts.count(-1), 'TN':counts.count(0) }\n",
    "\n",
    "get_accuracy  = lambda conf, N: (conf['TP'] + conf['TN']) / N\n",
    "def get_precision(conf):\n",
    "    total_pred_positive = conf['TP'] + conf['FP']\n",
    "    if total_pred_positive == 0: return 0\n",
    "    return conf['TP'] / total_pred_positive\n",
    "\n",
    "def get_recall(conf):\n",
    "    total_positive = conf['TP'] + conf['FN']\n",
    "    if total_positive == 0: return 0\n",
    "    return conf['TP'] / total_positive\n",
    "    \n",
    "def get_f1(p,r):\n",
    "    p_plus_r = p + r\n",
    "    if p_plus_r == 0: return 0\n",
    "    return 2 * p * r / p_plus_r\n",
    "\n",
    "def print_metrics(conf, N):\n",
    "    accuracy  = get_accuracy(conf, N)\n",
    "    p  = get_precision(conf)\n",
    "    r  = get_recall(conf)\n",
    "    f1 = get_f1(p, r)\n",
    "    \n",
    "    print('Confusion Matrix: {}'.format(conf))\n",
    "    print('Accuracy:\\t{:.4f}'.format(accuracy))\n",
    "    print('Precision:\\t{:.4f}\\nRecall:\\t\\t{:.4f}\\nF_1:\\t\\t{:.4f}'.format(p, r, f1))\n",
    "\n",
    "print_metrics(get_confusion_matrix(y_pred, y_test), len(y_test))"
   ]
  },
  {
   "cell_type": "markdown",
   "metadata": {},
   "source": [
    "The learnt coefficients are:"
   ]
  },
  {
   "cell_type": "code",
   "execution_count": 10,
   "metadata": {},
   "outputs": [
    {
     "name": "stdout",
     "output_type": "stream",
     "text": [
      "w_0: -28.0121\n",
      "W: \n",
      "[-14.6612   8.824    6.462    3.5058   9.9667   4.1559 -18.1957  24.4723\n",
      "  30.0877  -9.0526  13.4491  13.403  -16.5662 -13.4195   5.7705 -13.2981\n",
      " -30.8527   6.6925   1.0537   5.1807]\n"
     ]
    }
   ],
   "source": [
    "np.set_printoptions(precision=4)\n",
    "print('w_0: {:.4f}'.format(w_0))\n",
    "print('W: \\n{}'.format(W[1:]))"
   ]
  },
  {
   "cell_type": "markdown",
   "metadata": {
    "collapsed": true
   },
   "source": [
    "### 3. kNN\n",
    "Note that because the distance between each point depends on the unit of measurement, normalization of the features is strongly recommended for kNN."
   ]
  },
  {
   "cell_type": "code",
   "execution_count": 11,
   "metadata": {},
   "outputs": [
    {
     "name": "stdout",
     "output_type": "stream",
     "text": [
      "X_train: (2800, 20)\ty_train: (2800,)\n",
      "X_test: (1200, 20)\ty_test: (1200,)\n"
     ]
    }
   ],
   "source": [
    "print('X_train: {}\\ty_train: {}\\nX_test: {}\\ty_test: {}'.format(X_train.shape, y_train.shape, X_test.shape, y_test.shape))"
   ]
  },
  {
   "cell_type": "markdown",
   "metadata": {
    "collapsed": true
   },
   "source": []
  },
  {
   "cell_type": "markdown",
   "metadata": {},
   "source": [
    "Now we will score the classification of the testing sample with kNN:"
   ]
  },
  {
   "cell_type": "code",
   "execution_count": 12,
   "metadata": {
    "collapsed": true
   },
   "outputs": [],
   "source": [
    "def calculate_distances(X_train, X_test):\n",
    "    train_squared = np.sum(X_train**2, axis=1)[:, np.newaxis]\n",
    "    test_squared  = np.sum(X_test**2, axis=1)[:, np.newaxis]\n",
    "    train_test    = np.dot(X_test, X_train.T)   \n",
    "    \n",
    "    return (-2 * train_test.T + train_squared).T + test_squared\n",
    "\n",
    "def get_k_closest_labels(dist, y, k):\n",
    "    neighbour_idx = np.argpartition(dist, -k)[-k:]\n",
    "    \n",
    "    return y.iloc[neighbour_idx]\n",
    "\n",
    "def majority_vote(neighbour_labels):\n",
    "    c1 = neighbour_labels.count(1)\n",
    "    c2 = neighbour_labels.count(0)\n",
    "    \n",
    "    return 1 if c1 > c2 else 0\n",
    "\n",
    "\n",
    "def kNN(dists, y, K):\n",
    "    confusions, F1s = [], []\n",
    "    y_pred = {}\n",
    "    for k in K:\n",
    "        y_pred = []\n",
    "        for row in dists:\n",
    "            \n",
    "            k_labels = get_k_closest_labels(row, y, k)\n",
    "            pred     = majority_vote(k_labels.tolist())\n",
    "            y_pred.append(pred)\n",
    "\n",
    "        conf = get_confusion_matrix(y_pred, y.tolist())\n",
    "        p    = get_precision(conf)\n",
    "        r    = get_recall(conf)\n",
    "        f1   = get_f1(p, r)\n",
    "        confusions.append((k,conf))\n",
    "        F1s.append(f1)\n",
    "        \n",
    "    return confusions, F1s\n",
    "\n",
    "dists    = calculate_distances(X_train, X_test)\n",
    "confusions, F1s = kNN(dists, y_train, np.arange(1,501,10)) "
   ]
  },
  {
   "cell_type": "markdown",
   "metadata": {},
   "source": [
    "Lets visualize the accuracy of the classifier wrt k:"
   ]
  },
  {
   "cell_type": "code",
   "execution_count": 13,
   "metadata": {},
   "outputs": [
    {
     "name": "stdout",
     "output_type": "stream",
     "text": [
      "Max F1: 0.4966 with k=21\n"
     ]
    },
    {
     "data": {
      "image/png": "[encoded data removed]",
      "text/plain": [
       "<matplotlib.figure.Figure at 0x21fca7d97f0>"
      ]
     },
     "metadata": {},
     "output_type": "display_data"
    }
   ],
   "source": [
    "xs = [c[0] for c in confusions]\n",
    "\n",
    "max_idx = F1s.index(max(F1s))\n",
    "print('Max F1: {:.4f} with k={}'.format(F1s[max_idx], xs[max_idx]))\n",
    "\n",
    "fig, ax = plt.subplots(figsize=(10,10))\n",
    "\n",
    "plt.rc('xtick',labelsize=15)\n",
    "plt.rc('ytick',labelsize=15)\n",
    "plt.rc('grid', linestyle=\"--\", color='black')\n",
    "\n",
    "ax.plot(xs,F1s)\n",
    "\n",
    "plt.title('F1 score for different k\\'s', fontsize=20)\n",
    "plt.xlabel('k', fontsize=20, labelpad=20)\n",
    "plt.ylabel('F1', fontsize=20, labelpad=50, rotation=0)\n",
    "\n",
    "plt.grid()\n",
    "plt.show()"
   ]
  },
  {
   "cell_type": "markdown",
   "metadata": {},
   "source": [
    "The metrics for the optimal value of k are the following:"
   ]
  },
  {
   "cell_type": "code",
   "execution_count": 14,
   "metadata": {},
   "outputs": [
    {
     "name": "stdout",
     "output_type": "stream",
     "text": [
      "k = 21\n",
      "Confusion Matrix: {'TP': 293, 'FP': 283, 'FN': 311, 'TN': 313}\n",
      "Accuracy:\t0.5050\n",
      "Precision:\t0.5087\n",
      "Recall:\t\t0.4851\n",
      "F_1:\t\t0.4966\n"
     ]
    }
   ],
   "source": [
    "confusions, F1s = kNN(dists, y_train, [xs[max_idx]])\n",
    "\n",
    "for k, conf in confusions:\n",
    "    print('k = {}'.format(k))\n",
    "    print_metrics(conf, len(y_test)) "
   ]
  },
  {
   "cell_type": "markdown",
   "metadata": {},
   "source": [
    "### 4. Multivariate Gaussian\n",
    "First import the datasets and generate the Gaussian distributions:"
   ]
  },
  {
   "cell_type": "code",
   "execution_count": 15,
   "metadata": {
    "collapsed": true
   },
   "outputs": [],
   "source": [
    "c1_m1 = np.genfromtxt('./Datasets/DS2_c1_m1.txt', delimiter=',')\n",
    "c1_m2 = np.genfromtxt('./Datasets/DS2_c1_m2.txt', delimiter=',')\n",
    "c1_m3 = np.genfromtxt('./Datasets/DS2_c1_m3.txt', delimiter=',')\n",
    "\n",
    "c2_m1 = np.genfromtxt('./Datasets/DS2_c2_m1.txt', delimiter=',')\n",
    "c2_m2 = np.genfromtxt('./Datasets/DS2_c2_m2.txt', delimiter=',')\n",
    "c2_m3 = np.genfromtxt('./Datasets/DS2_c2_m3.txt', delimiter=',')\n",
    "\n",
    "cov1 = np.genfromtxt('./Datasets/DS2_Cov1.txt', delimiter=',')\n",
    "cov2 = np.genfromtxt('./Datasets/DS2_Cov2.txt', delimiter=',')\n",
    "cov3 = np.genfromtxt('./Datasets/DS2_Cov3.txt', delimiter=',')\n",
    "\n",
    "# get rid of extra column parsed by read_csv due to \\n\n",
    "c1_m1 = c1_m1[:-1]\n",
    "c1_m2 = c1_m2[:-1]\n",
    "c1_m3 = c1_m3[:-1]\n",
    "\n",
    "c2_m1 = c2_m1[:-1]\n",
    "c2_m2 = c2_m2[:-1]\n",
    "c2_m3 = c2_m3[:-1]\n",
    "\n",
    "cov1 = cov1[:, :-1]\n",
    "cov2 = cov2[:, :-1]\n",
    "cov3 = cov3[:, :-1]\n",
    "\n",
    "shape = (2000)\n",
    "c1_G1 = pd.DataFrame(np.random.multivariate_normal(c1_m1,cov1,shape))\n",
    "c1_G2 = pd.DataFrame(np.random.multivariate_normal(c1_m2,cov2,shape))\n",
    "c1_G3 = pd.DataFrame(np.random.multivariate_normal(c1_m3,cov3,shape))\n",
    "\n",
    "c2_G1 = pd.DataFrame(np.random.multivariate_normal(c2_m1,cov1,shape))\n",
    "c2_G2 = pd.DataFrame(np.random.multivariate_normal(c2_m2,cov2,shape))\n",
    "c2_G3 = pd.DataFrame(np.random.multivariate_normal(c2_m3,cov3,shape))"
   ]
  },
  {
   "cell_type": "markdown",
   "metadata": {},
   "source": [
    "Next generate both classes with the given probabilities:"
   ]
  },
  {
   "cell_type": "code",
   "execution_count": 16,
   "metadata": {},
   "outputs": [
    {
     "name": "stdout",
     "output_type": "stream",
     "text": [
      "Data set for Class 1 has shape: (2000, 21)\n",
      "Data set for Class 2 has shape: (2000, 21)\n"
     ]
    }
   ],
   "source": [
    "df1 = c1_G1.sample(frac=0.1, random_state=42).reset_index(drop=True)\n",
    "df1 = df1.append(c1_G2.sample(frac=0.42, random_state=42).reset_index(drop=True), ignore_index=True)\n",
    "df1 = df1.append(c1_G3.sample(frac=0.48, random_state=42).reset_index(drop=True), ignore_index=True)\n",
    "\n",
    "df2 = c2_G1.sample(frac=0.1, random_state=42).reset_index(drop=True)\n",
    "df2 = df2.append(c2_G2.sample(frac=0.42, random_state=42).reset_index(drop=True), ignore_index=True)\n",
    "df2 = df2.append(c2_G3.sample(frac=0.48, random_state=42).reset_index(drop=True), ignore_index=True)\n",
    "\n",
    "# append the labels to each data set\n",
    "df1['y'] = 1\n",
    "df2['y'] = 0\n",
    "\n",
    "print('Data set for Class 1 has shape: {}'.format(df1.shape))\n",
    "print('Data set for Class 2 has shape: {}'.format(df2.shape))"
   ]
  },
  {
   "cell_type": "markdown",
   "metadata": {},
   "source": [
    "Next, we will take a homogenious ratio of both classes to form training and testing data sets with 70/30 ratio:"
   ]
  },
  {
   "cell_type": "code",
   "execution_count": 17,
   "metadata": {},
   "outputs": [
    {
     "name": "stdout",
     "output_type": "stream",
     "text": [
      "X_train: (2800, 20)\ty_train: (2800,)\n",
      "X_test: (1200, 20)\ty_test: (1200,)\n"
     ]
    }
   ],
   "source": [
    "X_train1, X_test1, y_train1, y_test1 = train_test_split(df1)\n",
    "X_train2, X_test2, y_train2, y_test2 = train_test_split(df2)\n",
    "\n",
    "X_train = merge(X_train1, X_train2)\n",
    "y_train = merge(y_train1, y_train2)\n",
    "\n",
    "X_test  = merge(X_test1, X_test2)\n",
    "y_test  = merge(y_test1, y_test2)\n",
    "\n",
    "print('X_train: {}\\ty_train: {}\\nX_test: {}\\ty_test: {}'.format(X_train.shape, y_train.shape, X_test.shape, y_test.shape))"
   ]
  },
  {
   "cell_type": "markdown",
   "metadata": {},
   "source": [
    "We will save the testing set as DS2:"
   ]
  },
  {
   "cell_type": "code",
   "execution_count": 18,
   "metadata": {
    "collapsed": true
   },
   "outputs": [],
   "source": [
    "DS2_train = X_train.copy(deep=True)\n",
    "DS2_test  = X_test.copy(deep=True)\n",
    "\n",
    "DS2_train['y'] = y_train\n",
    "DS2_test['y']  = y_test\n",
    "\n",
    "DS2_train.to_csv('./Output/DS2_train.csv')\n",
    "DS2_test.to_csv('./Output/DS2_test.csv')"
   ]
  },
  {
   "cell_type": "markdown",
   "metadata": {},
   "source": [
    "### Maximum Likelihood Approach\n",
    "Learn the parameters and fit the model:"
   ]
  },
  {
   "cell_type": "code",
   "execution_count": 19,
   "metadata": {
    "collapsed": true
   },
   "outputs": [],
   "source": [
    "N = y_train.shape[0]\n",
    "N1, N2 = y_train.value_counts()\n",
    "\n",
    "# features of classes 1,2 \n",
    "X_c1 = X_train.loc[y_train.index[y_train == 1]]\n",
    "X_c2 = X_train.loc[y_train.index[y_train == 0]]\n",
    "\n",
    "m1 = X_c1.mean(axis=0)\n",
    "m2 = X_c2.mean(axis=0)\n",
    "\n",
    "S1 = (X_c1 - m1).T.dot((X_c1 - m1)) / N1\n",
    "S2 = (X_c2 - m2).T.dot((X_c2 - m2)) / N2\n",
    "\n",
    "cov = (N1 * S1 / N) + (N2 * S2 / N)\n",
    "\n",
    "cov_inv = np.linalg.pinv(cov)\n",
    "\n",
    "W   = cov_inv.dot(m1 - m2)\n",
    "w_0 = (-1/2) * m1.T.dot(cov_inv).dot(m1) + \\\n",
    "        (1/2) * m2.T.dot(cov_inv).dot(m2) + math.log(N1 / N2)\n",
    "    \n",
    "W = np.concatenate((np.array([w_0]),W), axis=0)"
   ]
  },
  {
   "cell_type": "markdown",
   "metadata": {},
   "source": [
    "Test the accuracy:"
   ]
  },
  {
   "cell_type": "code",
   "execution_count": 20,
   "metadata": {},
   "outputs": [
    {
     "name": "stdout",
     "output_type": "stream",
     "text": [
      "Confusion Matrix: {'TP': 290, 'FP': 366, 'FN': 310, 'TN': 234}\n",
      "Accuracy:\t0.4367\n",
      "Precision:\t0.4421\n",
      "Recall:\t\t0.4833\n",
      "F_1:\t\t0.4618\n"
     ]
    }
   ],
   "source": [
    "add_bias(X_test)\n",
    "y_pred = X_test.apply(lambda x: clf(W,x), axis=1)\n",
    "X_test = X_test.drop('bias',1)\n",
    "\n",
    "print_metrics(get_confusion_matrix(y_pred, y_test), len(y_test))"
   ]
  },
  {
   "cell_type": "markdown",
   "metadata": {},
   "source": [
    "The learnt coefficients are:"
   ]
  },
  {
   "cell_type": "code",
   "execution_count": 21,
   "metadata": {},
   "outputs": [
    {
     "name": "stdout",
     "output_type": "stream",
     "text": [
      "w_0: 0.0558\n",
      "W: \n",
      "[-0.0367 -0.0078  0.0044 -0.0201 -0.0801 -0.035  -0.0107  0.0225  0.012\n",
      "  0.0048 -0.0237 -0.0196 -0.0106  0.0151  0.0816  0.0538  0.0106 -0.0117\n",
      "  0.0222 -0.0187]\n"
     ]
    }
   ],
   "source": [
    "np.set_printoptions(precision=4)\n",
    "print('w_0: {:.4f}'.format(w_0))\n",
    "print('W: \\n{}'.format(W[1:]))"
   ]
  },
  {
   "cell_type": "markdown",
   "metadata": {},
   "source": [
    "### kNN\n",
    "Fit the classifier:"
   ]
  },
  {
   "cell_type": "code",
   "execution_count": 22,
   "metadata": {
    "collapsed": true
   },
   "outputs": [],
   "source": [
    "dists    = calculate_distances(X_train, X_test)\n",
    "confusions, F1s = kNN(dists, y_train, np.arange(1,501,10)) "
   ]
  },
  {
   "cell_type": "markdown",
   "metadata": {
    "collapsed": true
   },
   "source": [
    "Plot the F1 score over different k's:"
   ]
  },
  {
   "cell_type": "code",
   "execution_count": 23,
   "metadata": {
    "scrolled": true
   },
   "outputs": [
    {
     "name": "stdout",
     "output_type": "stream",
     "text": [
      "Max F1: 0.6180 with k=391\n"
     ]
    },
    {
     "data": {
      "image/png": "[encoded data removed]",
      "text/plain": [
       "<matplotlib.figure.Figure at 0x21fcbdf9c88>"
      ]
     },
     "metadata": {},
     "output_type": "display_data"
    }
   ],
   "source": [
    "xs = [c[0] for c in confusions]\n",
    "\n",
    "max_idx = F1s.index(max(F1s))\n",
    "print('Max F1: {:.4f} with k={}'.format(F1s[max_idx], xs[max_idx]))\n",
    "\n",
    "fig, ax = plt.subplots(figsize=(10,10))\n",
    "\n",
    "plt.rc('xtick',labelsize=15)\n",
    "plt.rc('ytick',labelsize=15)\n",
    "plt.rc('grid', linestyle=\"--\", color='black')\n",
    "\n",
    "ax.plot(xs,F1s)\n",
    "\n",
    "plt.title('F1 score for different k\\'s', fontsize=20)\n",
    "plt.xlabel('k', fontsize=20, labelpad=20)\n",
    "plt.ylabel('F1', fontsize=20, labelpad=50, rotation=0)\n",
    "\n",
    "plt.grid()\n",
    "plt.show()"
   ]
  },
  {
   "cell_type": "markdown",
   "metadata": {},
   "source": [
    "The metrics for the optimal value of k are the following:"
   ]
  },
  {
   "cell_type": "code",
   "execution_count": 24,
   "metadata": {},
   "outputs": [
    {
     "name": "stdout",
     "output_type": "stream",
     "text": [
      "k = 391\n",
      "Confusion Matrix: {'TP': 491, 'FP': 494, 'FN': 113, 'TN': 102}\n",
      "Accuracy:\t0.4942\n",
      "Precision:\t0.4985\n",
      "Recall:\t\t0.8129\n",
      "F_1:\t\t0.6180\n"
     ]
    }
   ],
   "source": [
    "confusions, F1s = kNN(dists, y_train, [xs[max_idx]])\n",
    "\n",
    "for k, conf in confusions:\n",
    "    print('k = {}'.format(k))\n",
    "    print_metrics(conf, len(y_test)) "
   ]
  },
  {
   "cell_type": "code",
   "execution_count": null,
   "metadata": {
    "collapsed": true
   },
   "outputs": [],
   "source": []
  },
  {
   "cell_type": "code",
   "execution_count": null,
   "metadata": {
    "collapsed": true
   },
   "outputs": [],
   "source": []
  }
 ],
 "metadata": {
  "kernelspec": {
   "display_name": "Python 3",
   "language": "python",
   "name": "python3"
  },
  "language_info": {
   "codemirror_mode": {
    "name": "ipython",
    "version": 3
   },
   "file_extension": ".py",
   "mimetype": "text/x-python",
   "name": "python",
   "nbconvert_exporter": "python",
   "pygments_lexer": "ipython3",
   "version": "3.6.3"
  }
 },
 "nbformat": 4,
 "nbformat_minor": 2
}
